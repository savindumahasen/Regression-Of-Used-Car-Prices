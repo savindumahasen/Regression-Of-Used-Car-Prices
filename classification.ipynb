{
  "nbformat": 4,
  "nbformat_minor": 0,
  "metadata": {
    "colab": {
      "provenance": [],
      "gpuType": "T4",
      "authorship_tag": "ABX9TyPyqRWYzE+j5cFkeKy3/Quq",
      "include_colab_link": true
    },
    "kernelspec": {
      "name": "python3",
      "display_name": "Python 3"
    },
    "language_info": {
      "name": "python"
    },
    "accelerator": "GPU"
  },
  "cells": [
    {
      "cell_type": "markdown",
      "metadata": {
        "id": "view-in-github",
        "colab_type": "text"
      },
      "source": [
        "<a href=\"https://colab.research.google.com/github/savindumahasen/Regression-Of-Used-Car-Prices/blob/main/classification.ipynb\" target=\"_parent\"><img src=\"https://colab.research.google.com/assets/colab-badge.svg\" alt=\"Open In Colab\"/></a>"
      ]
    },
    {
      "cell_type": "code",
      "execution_count": 1,
      "metadata": {
        "id": "AULHR7TDmCIA"
      },
      "outputs": [],
      "source": [
        "import pandas as pd\n",
        "import numpy as np\n",
        "import matplotlib.pyplot as plt\n",
        "import seaborn as sns"
      ]
    },
    {
      "cell_type": "code",
      "source": [
        "## import the train, test dataset and read the first five records"
      ],
      "metadata": {
        "id": "G0aLTtDMpIQv"
      },
      "execution_count": null,
      "outputs": []
    },
    {
      "cell_type": "code",
      "source": [
        "train_dataset=pd.read_csv(\"train.csv\")"
      ],
      "metadata": {
        "id": "b4Ga7Navpl4Q"
      },
      "execution_count": 2,
      "outputs": []
    },
    {
      "cell_type": "code",
      "source": [
        "test_dataset=pd.read_csv(\"test.csv\")"
      ],
      "metadata": {
        "id": "NLr6wo3AptJG"
      },
      "execution_count": 3,
      "outputs": []
    },
    {
      "cell_type": "code",
      "source": [
        "## check the information of the training dataset"
      ],
      "metadata": {
        "id": "4OtCbYXpp0V2"
      },
      "execution_count": 4,
      "outputs": []
    },
    {
      "cell_type": "code",
      "source": [
        "train_dataset.info()"
      ],
      "metadata": {
        "colab": {
          "base_uri": "https://localhost:8080/"
        },
        "id": "yGDaFdt5QzRV",
        "outputId": "47898984-b6e4-4205-8aa0-358deae216d4"
      },
      "execution_count": 5,
      "outputs": [
        {
          "output_type": "stream",
          "name": "stdout",
          "text": [
            "<class 'pandas.core.frame.DataFrame'>\n",
            "RangeIndex: 14347 entries, 0 to 14346\n",
            "Data columns (total 13 columns):\n",
            " #   Column        Non-Null Count  Dtype  \n",
            "---  ------        --------------  -----  \n",
            " 0   id            14347 non-null  int64  \n",
            " 1   brand         14347 non-null  object \n",
            " 2   model         14347 non-null  object \n",
            " 3   model_year    14347 non-null  int64  \n",
            " 4   milage        14347 non-null  int64  \n",
            " 5   fuel_type     13958 non-null  object \n",
            " 6   engine        14347 non-null  object \n",
            " 7   transmission  14347 non-null  object \n",
            " 8   ext_col       14347 non-null  object \n",
            " 9   int_col       14347 non-null  object \n",
            " 10  accident      14155 non-null  object \n",
            " 11  clean_title   12752 non-null  object \n",
            " 12  price         14346 non-null  float64\n",
            "dtypes: float64(1), int64(3), object(9)\n",
            "memory usage: 1.4+ MB\n"
          ]
        }
      ]
    },
    {
      "cell_type": "code",
      "source": [],
      "metadata": {
        "id": "X8XNTuW_Q2LK"
      },
      "execution_count": null,
      "outputs": []
    }
  ]
}